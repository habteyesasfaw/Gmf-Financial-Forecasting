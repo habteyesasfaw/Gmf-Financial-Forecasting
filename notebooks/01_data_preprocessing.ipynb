{
 "cells": [
  {
   "cell_type": "markdown",
   "metadata": {},
   "source": [
    "# Importing necessary libraries\n"
   ]
  },
  {
   "cell_type": "code",
   "execution_count": 1,
   "metadata": {},
   "outputs": [],
   "source": [
    "import yfinance as yf\n",
    "import pandas as pd\n",
    "import numpy as np\n",
    "import matplotlib.pyplot as plt\n",
    "import seaborn as sns\n",
    "from statsmodels.tsa.seasonal import seasonal_decompose\n",
    "from sklearn.preprocessing import StandardScaler"
   ]
  },
  {
   "cell_type": "code",
   "execution_count": 2,
   "metadata": {},
   "outputs": [],
   "source": [
    "# Set visualization style\n",
    "sns.set(style=\"darkgrid\")"
   ]
  },
  {
   "cell_type": "code",
   "execution_count": 3,
   "metadata": {},
   "outputs": [],
   "source": [
    "# Directory path to save the CSV files\n",
    "output_path = '../data/raw/'"
   ]
  },
  {
   "cell_type": "code",
   "execution_count": 4,
   "metadata": {},
   "outputs": [],
   "source": [
    "\n",
    "# Function to load data from Yahoo Finance for a specific asset\n",
    "def load_data(symbol, start_date='2015-01-01', end_date='2024-10-31'):\n",
    " data = yf.download(symbol, start=start_date, end=end_date)\n",
    " data['Symbol'] = symbol  # Add symbol column to identify asset\n",
    "    \n",
    "# Save the data to a CSV file in the raw data folder\n",
    " data.to_csv(f\"{output_path}{symbol}_data.csv\")\n",
    " return data"
   ]
  },
  {
   "cell_type": "markdown",
   "metadata": {},
   "source": [
    "# Load data for all assets (TSLA, BND, SPY)\n"
   ]
  },
  {
   "cell_type": "code",
   "execution_count": 6,
   "metadata": {},
   "outputs": [
    {
     "name": "stderr",
     "output_type": "stream",
     "text": [
      "[*********************100%***********************]  1 of 1 completed\n",
      "[*********************100%***********************]  1 of 1 completed\n",
      "[*********************100%***********************]  1 of 1 completed\n"
     ]
    }
   ],
   "source": [
    "# Load data for all assets (TSLA, BND, SPY) and save them as CSVs\n",
    "tsla_data = load_data('TSLA')\n",
    "bnd_data = load_data('BND')\n",
    "spy_data = load_data('SPY')"
   ]
  },
  {
   "cell_type": "markdown",
   "metadata": {},
   "source": [
    "# Data Cleaning - Handling Missing Value\n"
   ]
  },
  {
   "cell_type": "code",
   "execution_count": 7,
   "metadata": {},
   "outputs": [
    {
     "name": "stderr",
     "output_type": "stream",
     "text": [
      "C:\\Users\\habteyes.asfaw\\AppData\\Local\\Temp\\ipykernel_32568\\3114325919.py:2: FutureWarning: DataFrame.fillna with 'method' is deprecated and will raise in a future version. Use obj.ffill() or obj.bfill() instead.\n",
      "  tsla_data.fillna(method='ffill', inplace=True)\n",
      "C:\\Users\\habteyes.asfaw\\AppData\\Local\\Temp\\ipykernel_32568\\3114325919.py:3: FutureWarning: DataFrame.fillna with 'method' is deprecated and will raise in a future version. Use obj.ffill() or obj.bfill() instead.\n",
      "  bnd_data.fillna(method='ffill', inplace=True)\n",
      "C:\\Users\\habteyes.asfaw\\AppData\\Local\\Temp\\ipykernel_32568\\3114325919.py:4: FutureWarning: DataFrame.fillna with 'method' is deprecated and will raise in a future version. Use obj.ffill() or obj.bfill() instead.\n",
      "  spy_data.fillna(method='ffill', inplace=True)\n"
     ]
    }
   ],
   "source": [
    "# Fill missing values using forward fill method (you can also use other methods such as interpolation)\n",
    "tsla_data.fillna(method='ffill', inplace=True)\n",
    "bnd_data.fillna(method='ffill', inplace=True)\n",
    "spy_data.fillna(method='ffill', inplace=True)"
   ]
  },
  {
   "cell_type": "code",
   "execution_count": 8,
   "metadata": {},
   "outputs": [
    {
     "name": "stdout",
     "output_type": "stream",
     "text": [
      "\n",
      "TSLA Missing Values After Fill:\n",
      "Price      Ticker\n",
      "Adj Close  TSLA      0\n",
      "Close      TSLA      0\n",
      "High       TSLA      0\n",
      "Low        TSLA      0\n",
      "Open       TSLA      0\n",
      "Volume     TSLA      0\n",
      "Symbol               0\n",
      "dtype: int64\n"
     ]
    }
   ],
   "source": [
    "# Confirm missing values are handled\n",
    "print(\"\\nTSLA Missing Values After Fill:\")\n",
    "print(tsla_data.isnull().sum())"
   ]
  },
  {
   "cell_type": "code",
   "execution_count": 9,
   "metadata": {},
   "outputs": [
    {
     "name": "stdout",
     "output_type": "stream",
     "text": [
      "\n",
      "BND Missing Values After Fill:\n",
      "Price      Ticker\n",
      "Adj Close  BND       0\n",
      "Close      BND       0\n",
      "High       BND       0\n",
      "Low        BND       0\n",
      "Open       BND       0\n",
      "Volume     BND       0\n",
      "Symbol               0\n",
      "dtype: int64\n"
     ]
    }
   ],
   "source": [
    "print(\"\\nBND Missing Values After Fill:\")\n",
    "print(bnd_data.isnull().sum())"
   ]
  },
  {
   "cell_type": "code",
   "execution_count": 10,
   "metadata": {},
   "outputs": [
    {
     "name": "stdout",
     "output_type": "stream",
     "text": [
      "\n",
      "SPY Missing Values After Fill:\n",
      "Price      Ticker\n",
      "Adj Close  SPY       0\n",
      "Close      SPY       0\n",
      "High       SPY       0\n",
      "Low        SPY       0\n",
      "Open       SPY       0\n",
      "Volume     SPY       0\n",
      "Symbol               0\n",
      "dtype: int64\n"
     ]
    }
   ],
   "source": [
    "\n",
    "print(\"\\nSPY Missing Values After Fill:\")\n",
    "print(spy_data.isnull().sum())\n",
    "\n"
   ]
  },
  {
   "cell_type": "markdown",
   "metadata": {},
   "source": [
    "# Normalize or Scale Data if Required\n"
   ]
  },
  {
   "cell_type": "code",
   "execution_count": null,
   "metadata": {},
   "outputs": [],
   "source": [
    "scaler = StandardScaler()"
   ]
  },
  {
   "cell_type": "code",
   "execution_count": 12,
   "metadata": {},
   "outputs": [],
   "source": [
    "tsla_data[['Open', 'High', 'Low', 'Close', 'Volume']] = scaler.fit_transform(tsla_data[['Open', 'High', 'Low', 'Close', 'Volume']])\n",
    "bnd_data[['Open', 'High', 'Low', 'Close', 'Volume']] = scaler.fit_transform(bnd_data[['Open', 'High', 'Low', 'Close', 'Volume']])\n",
    "spy_data[['Open', 'High', 'Low', 'Close', 'Volume']] = scaler.fit_transform(spy_data[['Open', 'High', 'Low', 'Close', 'Volume']])\n"
   ]
  },
  {
   "cell_type": "code",
   "execution_count": null,
   "metadata": {},
   "outputs": [],
   "source": []
  }
 ],
 "metadata": {
  "kernelspec": {
   "display_name": "venv",
   "language": "python",
   "name": "python3"
  },
  "language_info": {
   "codemirror_mode": {
    "name": "ipython",
    "version": 3
   },
   "file_extension": ".py",
   "mimetype": "text/x-python",
   "name": "python",
   "nbconvert_exporter": "python",
   "pygments_lexer": "ipython3",
   "version": "3.12.7"
  }
 },
 "nbformat": 4,
 "nbformat_minor": 2
}
